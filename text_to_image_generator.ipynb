{
  "nbformat": 4,
  "nbformat_minor": 0,
  "metadata": {
    "colab": {
      "provenance": [],
      "gpuType": "T4",
      "authorship_tag": "ABX9TyMptZYr+CasLktbyUgyOFrF",
      "include_colab_link": true
    },
    "kernelspec": {
      "name": "python3",
      "display_name": "Python 3"
    },
    "language_info": {
      "name": "python"
    },
    "accelerator": "GPU"
  },
  "cells": [
    {
      "cell_type": "markdown",
      "metadata": {
        "id": "view-in-github",
        "colab_type": "text"
      },
      "source": [
        "<a href=\"https://colab.research.google.com/github/raunakjais2004/AI-text-to-Image-generator/blob/main/text_to_image_generator.ipynb\" target=\"_parent\"><img src=\"https://colab.research.google.com/assets/colab-badge.svg\" alt=\"Open In Colab\"/></a>"
      ]
    },
    {
      "cell_type": "markdown",
      "source": [
        "This project is a Python-based implementation developed in Google Colab that focuses on generating images from natural language text descriptions using artificial intelligence. The main goal is to demonstrate how machine learning models can interpret and visualize human language by creating corresponding images. Users can enter any descriptive text prompt, and the code processes the input using a pretrained deep learning model to generate an image that closely matches the given description. This project showcases the creative potential of AI in areas like digital art, design, and content creation. It also highlights how accessible and powerful Google Colab can be for experimenting with advanced AI models without the need for high-end local hardware.\n",
        "\n"
      ],
      "metadata": {
        "id": "kIISY47FvC8C"
      }
    },
    {
      "cell_type": "markdown",
      "source": [
        "step 1- install all libraries"
      ],
      "metadata": {
        "id": "CrlQ2ngev6om"
      }
    },
    {
      "cell_type": "code",
      "execution_count": null,
      "metadata": {
        "id": "_uMPVZKOd-5Y"
      },
      "outputs": [],
      "source": [
        "# Install or upgrade the essential Hugging Face libraries:\n",
        "!pip install diffusers transformers accelerate --upgrade\n",
        "!pip install safetensors\n",
        "#diifusertrsner"
      ]
    },
    {
      "cell_type": "markdown",
      "source": [
        "step 2- import  library which has to be use"
      ],
      "metadata": {
        "id": "VFTHQS0-wGMH"
      }
    },
    {
      "cell_type": "code",
      "source": [
        "# Import the PyTorch library.\n",
        "import torch\n",
        "# Import the StableDiffusionPipeline from Hugging Face's diffusers library.\n",
        "from diffusers import StableDiffusionPipeline\n",
        "# Import the matplotlib.pyplot module for visualizing images.\n",
        "\n",
        "import matplotlib.pyplot as plt"
      ],
      "metadata": {
        "id": "ZGh7_vqNlsuU"
      },
      "execution_count": null,
      "outputs": []
    },
    {
      "cell_type": "markdown",
      "source": [
        "step 3-define function for generating image"
      ],
      "metadata": {
        "id": "C6n1puk-waPb"
      }
    },
    {
      "cell_type": "code",
      "source": [
        "# Load the pre-trained Stable Diffusion v1.5 model from Hugging Face.\n",
        "pipe=StableDiffusionPipeline.from_pretrained(\n",
        "    \"runwayml/stable-diffusion-v1-5\",\n",
        "    torch_dtype=torch.float16,\n",
        "    use_safetensors=True\n",
        "    )\n",
        "\n",
        "# Move the model pipeline to the GPU (CUDA) for faster processing.\n",
        "pipe=pipe.to(\"cuda\")"
      ],
      "metadata": {
        "id": "htT-3ilmn61j"
      },
      "execution_count": null,
      "outputs": []
    },
    {
      "cell_type": "markdown",
      "source": [
        "Step 4-provide the prompt"
      ],
      "metadata": {
        "id": "UiJ9xD_btF80"
      }
    },
    {
      "cell_type": "code",
      "source": [
        "user_prompt = input(\"Enter your prompt: \")"
      ],
      "metadata": {
        "id": "nr_SDl-Tr1PA"
      },
      "execution_count": null,
      "outputs": []
    },
    {
      "cell_type": "markdown",
      "source": [
        "step 5- show image"
      ],
      "metadata": {
        "id": "wV2-RdnFwphn"
      }
    },
    {
      "cell_type": "code",
      "source": [
        "# Generate an image from the user-provided text promp\n",
        "image =pipe(user_prompt).images[0]\n",
        "#display generated image\n",
        "plt.imshow(image)\n",
        "plt.axis(\"off\")\n",
        "plt.show()\n",
        "image.save(\"generated_image.png\")"
      ],
      "metadata": {
        "id": "Sz0-7laBs0Oo"
      },
      "execution_count": null,
      "outputs": []
    },
    {
      "cell_type": "markdown",
      "source": [
        "importing library for UI"
      ],
      "metadata": {
        "id": "6pAVQhokwxlX"
      }
    },
    {
      "cell_type": "code",
      "source": [
        "pip install gradio\n"
      ],
      "metadata": {
        "id": "Hc-6hVSEvXZM"
      },
      "execution_count": null,
      "outputs": []
    },
    {
      "cell_type": "markdown",
      "source": [
        "genera"
      ],
      "metadata": {
        "id": "AMl6Vre_w30U"
      }
    },
    {
      "cell_type": "code",
      "source": [
        "import gradio as gr\n",
        "from PIL import Image\n",
        "\n",
        "# Define a function that takes a prompt and returns a generated image\n",
        "def generate_image(prompt):\n",
        "    image = pipe(prompt).images[0]\n",
        "    image.save(\"generated_image.png\")\n",
        "    return image\n",
        "\n",
        "# Create the Gradio interface\n",
        "demo = gr.Interface(\n",
        "    fn=generate_image,\n",
        "    inputs=gr.Textbox(label=\"Enter your prompt\"),\n",
        "    outputs=gr.Image(type=\"pil\"),\n",
        "    title=\"Stable Diffusion Image Generator\",\n",
        "    description=\"Enter a text prompt and generate an image using Stable Diffusion v1.5\"\n",
        ")\n",
        "\n",
        "# Launch the interface in a browser\n",
        "demo.launch()\n"
      ],
      "metadata": {
        "id": "l1U93kKWva73"
      },
      "execution_count": null,
      "outputs": []
    }
  ]
}